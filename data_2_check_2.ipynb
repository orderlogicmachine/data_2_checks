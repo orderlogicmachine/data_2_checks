{
 "cells": [
  {
   "cell_type": "markdown",
   "metadata": {},
   "source": [
    "#### First, we'll import the libraries we need including `fastf1`, a Formula 1 data analysis library, and enable its data cache for lower latency."
   ]
  },
  {
   "cell_type": "code",
   "execution_count": 1,
   "metadata": {},
   "outputs": [],
   "source": [
    "import fastf1 as ff1\n",
    "from fastf1 import plotting\n",
    "from fastf1 import utils\n",
    "\n",
    "import numpy as np\n",
    "import pandas as pd\n",
    "\n",
    "ff1.Cache.enable_cache('cache')"
   ]
  },
  {
   "cell_type": "markdown",
   "metadata": {},
   "source": [
    "#### Next, we'll set the year, event, and session for which we'll pull data, then do the pulling."
   ]
  },
  {
   "cell_type": "code",
   "execution_count": 2,
   "metadata": {},
   "outputs": [
    {
     "name": "stderr",
     "output_type": "stream",
     "text": [
      "core           INFO \tLoading data for Italian Grand Prix - Race [v2.3.0]\n",
      "api            INFO \tUsing cached data for driver_info\n",
      "api            INFO \tUsing cached data for timing_data\n",
      "api            INFO \tUsing cached data for timing_app_data\n",
      "core           INFO \tProcessing timing data...\n",
      "api            INFO \tUsing cached data for session_status_data\n",
      "api            INFO \tUsing cached data for track_status_data\n",
      "api            INFO \tUsing cached data for car_data\n",
      "api            INFO \tUsing cached data for position_data\n",
      "api            INFO \tUsing cached data for weather_data\n",
      "api            INFO \tUsing cached data for race_control_messages\n",
      "core           INFO \tFinished loading data for 20 drivers: ['3', '4', '77', '16', '11', '55', '18', '14', '63', '31', '6', '5', '99', '88', '47', '9', '44', '33', '10', '22']\n"
     ]
    }
   ],
   "source": [
    "year, grand_prix, session = 2021, 'Monza', 'R'\n",
    "\n",
    "race = ff1.get_session(year, grand_prix, session)\n",
    "race.load()"
   ]
  },
  {
   "cell_type": "markdown",
   "metadata": {},
   "source": [
    "#### Now, let's set the drivers we're interested in and assign variables to their lap data, then select their fastest laps from these datasets."
   ]
  },
  {
   "cell_type": "code",
   "execution_count": 3,
   "metadata": {},
   "outputs": [],
   "source": [
    "driver_1, driver_2 = 'RIC', 'NOR'\n",
    "\n",
    "laps_driver_1 = race.laps.pick_driver(driver_1)\n",
    "laps_driver_2 = race.laps.pick_driver(driver_2)\n",
    "\n",
    "fastest_driver_1 = laps_driver_1.pick_fastest()\n",
    "fastest_driver_2 = laps_driver_2.pick_fastest()"
   ]
  },
  {
   "cell_type": "code",
   "execution_count": 4,
   "metadata": {},
   "outputs": [
    {
     "name": "stdout",
     "output_type": "stream",
     "text": [
      "(53, 27)\n"
     ]
    },
    {
     "data": {
      "text/html": [
       "<div>\n",
       "<style scoped>\n",
       "    .dataframe tbody tr th:only-of-type {\n",
       "        vertical-align: middle;\n",
       "    }\n",
       "\n",
       "    .dataframe tbody tr th {\n",
       "        vertical-align: top;\n",
       "    }\n",
       "\n",
       "    .dataframe thead th {\n",
       "        text-align: right;\n",
       "    }\n",
       "</style>\n",
       "<table border=\"1\" class=\"dataframe\">\n",
       "  <thead>\n",
       "    <tr style=\"text-align: right;\">\n",
       "      <th></th>\n",
       "      <th>Time</th>\n",
       "      <th>DriverNumber</th>\n",
       "      <th>LapTime</th>\n",
       "      <th>LapNumber</th>\n",
       "      <th>PitOutTime</th>\n",
       "      <th>PitInTime</th>\n",
       "      <th>Sector1Time</th>\n",
       "      <th>Sector2Time</th>\n",
       "      <th>Sector3Time</th>\n",
       "      <th>Sector1SessionTime</th>\n",
       "      <th>...</th>\n",
       "      <th>Compound</th>\n",
       "      <th>TyreLife</th>\n",
       "      <th>FreshTyre</th>\n",
       "      <th>Stint</th>\n",
       "      <th>LapStartTime</th>\n",
       "      <th>Team</th>\n",
       "      <th>Driver</th>\n",
       "      <th>TrackStatus</th>\n",
       "      <th>IsAccurate</th>\n",
       "      <th>LapStartDate</th>\n",
       "    </tr>\n",
       "  </thead>\n",
       "  <tbody>\n",
       "    <tr>\n",
       "      <th>0</th>\n",
       "      <td>0 days 01:03:52.443000</td>\n",
       "      <td>3</td>\n",
       "      <td>NaT</td>\n",
       "      <td>1.0</td>\n",
       "      <td>0 days 00:25:09.902000</td>\n",
       "      <td>NaT</td>\n",
       "      <td>NaT</td>\n",
       "      <td>0 days 00:00:29.470000</td>\n",
       "      <td>0 days 00:00:38.561000</td>\n",
       "      <td>NaT</td>\n",
       "      <td>...</td>\n",
       "      <td>MEDIUM</td>\n",
       "      <td>1.0</td>\n",
       "      <td>True</td>\n",
       "      <td>1</td>\n",
       "      <td>0 days 01:02:14.632000</td>\n",
       "      <td>McLaren</td>\n",
       "      <td>RIC</td>\n",
       "      <td>26</td>\n",
       "      <td>False</td>\n",
       "      <td>2021-09-12 13:03:16.241</td>\n",
       "    </tr>\n",
       "    <tr>\n",
       "      <th>1</th>\n",
       "      <td>0 days 01:05:23.188000</td>\n",
       "      <td>3</td>\n",
       "      <td>0 days 00:01:30.745000</td>\n",
       "      <td>2.0</td>\n",
       "      <td>NaT</td>\n",
       "      <td>NaT</td>\n",
       "      <td>0 days 00:00:32.860000</td>\n",
       "      <td>0 days 00:00:29.263000</td>\n",
       "      <td>0 days 00:00:28.622000</td>\n",
       "      <td>0 days 01:04:25.303000</td>\n",
       "      <td>...</td>\n",
       "      <td>MEDIUM</td>\n",
       "      <td>2.0</td>\n",
       "      <td>True</td>\n",
       "      <td>1</td>\n",
       "      <td>0 days 01:03:52.443000</td>\n",
       "      <td>McLaren</td>\n",
       "      <td>RIC</td>\n",
       "      <td>67</td>\n",
       "      <td>False</td>\n",
       "      <td>2021-09-12 13:04:54.052</td>\n",
       "    </tr>\n",
       "    <tr>\n",
       "      <th>2</th>\n",
       "      <td>0 days 01:06:49.514000</td>\n",
       "      <td>3</td>\n",
       "      <td>0 days 00:01:26.326000</td>\n",
       "      <td>3.0</td>\n",
       "      <td>NaT</td>\n",
       "      <td>NaT</td>\n",
       "      <td>0 days 00:00:28.357000</td>\n",
       "      <td>0 days 00:00:29.409000</td>\n",
       "      <td>0 days 00:00:28.560000</td>\n",
       "      <td>0 days 01:05:51.545000</td>\n",
       "      <td>...</td>\n",
       "      <td>MEDIUM</td>\n",
       "      <td>3.0</td>\n",
       "      <td>True</td>\n",
       "      <td>1</td>\n",
       "      <td>0 days 01:05:23.188000</td>\n",
       "      <td>McLaren</td>\n",
       "      <td>RIC</td>\n",
       "      <td>1</td>\n",
       "      <td>True</td>\n",
       "      <td>2021-09-12 13:06:24.797</td>\n",
       "    </tr>\n",
       "    <tr>\n",
       "      <th>3</th>\n",
       "      <td>0 days 01:08:15.827000</td>\n",
       "      <td>3</td>\n",
       "      <td>0 days 00:01:26.313000</td>\n",
       "      <td>4.0</td>\n",
       "      <td>NaT</td>\n",
       "      <td>NaT</td>\n",
       "      <td>0 days 00:00:28.325000</td>\n",
       "      <td>0 days 00:00:29.399000</td>\n",
       "      <td>0 days 00:00:28.589000</td>\n",
       "      <td>0 days 01:07:17.839000</td>\n",
       "      <td>...</td>\n",
       "      <td>MEDIUM</td>\n",
       "      <td>4.0</td>\n",
       "      <td>True</td>\n",
       "      <td>1</td>\n",
       "      <td>0 days 01:06:49.514000</td>\n",
       "      <td>McLaren</td>\n",
       "      <td>RIC</td>\n",
       "      <td>1</td>\n",
       "      <td>True</td>\n",
       "      <td>2021-09-12 13:07:51.123</td>\n",
       "    </tr>\n",
       "    <tr>\n",
       "      <th>4</th>\n",
       "      <td>0 days 01:09:42.237000</td>\n",
       "      <td>3</td>\n",
       "      <td>0 days 00:01:26.410000</td>\n",
       "      <td>5.0</td>\n",
       "      <td>NaT</td>\n",
       "      <td>NaT</td>\n",
       "      <td>0 days 00:00:28.499000</td>\n",
       "      <td>0 days 00:00:29.329000</td>\n",
       "      <td>0 days 00:00:28.582000</td>\n",
       "      <td>0 days 01:08:44.326000</td>\n",
       "      <td>...</td>\n",
       "      <td>MEDIUM</td>\n",
       "      <td>5.0</td>\n",
       "      <td>True</td>\n",
       "      <td>1</td>\n",
       "      <td>0 days 01:08:15.827000</td>\n",
       "      <td>McLaren</td>\n",
       "      <td>RIC</td>\n",
       "      <td>1</td>\n",
       "      <td>True</td>\n",
       "      <td>2021-09-12 13:09:17.436</td>\n",
       "    </tr>\n",
       "  </tbody>\n",
       "</table>\n",
       "<p>5 rows × 27 columns</p>\n",
       "</div>"
      ],
      "text/plain": [
       "                    Time DriverNumber                LapTime  LapNumber  \\\n",
       "0 0 days 01:03:52.443000            3                    NaT        1.0   \n",
       "1 0 days 01:05:23.188000            3 0 days 00:01:30.745000        2.0   \n",
       "2 0 days 01:06:49.514000            3 0 days 00:01:26.326000        3.0   \n",
       "3 0 days 01:08:15.827000            3 0 days 00:01:26.313000        4.0   \n",
       "4 0 days 01:09:42.237000            3 0 days 00:01:26.410000        5.0   \n",
       "\n",
       "              PitOutTime PitInTime            Sector1Time  \\\n",
       "0 0 days 00:25:09.902000       NaT                    NaT   \n",
       "1                    NaT       NaT 0 days 00:00:32.860000   \n",
       "2                    NaT       NaT 0 days 00:00:28.357000   \n",
       "3                    NaT       NaT 0 days 00:00:28.325000   \n",
       "4                    NaT       NaT 0 days 00:00:28.499000   \n",
       "\n",
       "             Sector2Time            Sector3Time     Sector1SessionTime  ...  \\\n",
       "0 0 days 00:00:29.470000 0 days 00:00:38.561000                    NaT  ...   \n",
       "1 0 days 00:00:29.263000 0 days 00:00:28.622000 0 days 01:04:25.303000  ...   \n",
       "2 0 days 00:00:29.409000 0 days 00:00:28.560000 0 days 01:05:51.545000  ...   \n",
       "3 0 days 00:00:29.399000 0 days 00:00:28.589000 0 days 01:07:17.839000  ...   \n",
       "4 0 days 00:00:29.329000 0 days 00:00:28.582000 0 days 01:08:44.326000  ...   \n",
       "\n",
       "  Compound TyreLife  FreshTyre  Stint           LapStartTime     Team  Driver  \\\n",
       "0   MEDIUM      1.0       True      1 0 days 01:02:14.632000  McLaren     RIC   \n",
       "1   MEDIUM      2.0       True      1 0 days 01:03:52.443000  McLaren     RIC   \n",
       "2   MEDIUM      3.0       True      1 0 days 01:05:23.188000  McLaren     RIC   \n",
       "3   MEDIUM      4.0       True      1 0 days 01:06:49.514000  McLaren     RIC   \n",
       "4   MEDIUM      5.0       True      1 0 days 01:08:15.827000  McLaren     RIC   \n",
       "\n",
       "  TrackStatus  IsAccurate            LapStartDate  \n",
       "0          26       False 2021-09-12 13:03:16.241  \n",
       "1          67       False 2021-09-12 13:04:54.052  \n",
       "2           1        True 2021-09-12 13:06:24.797  \n",
       "3           1        True 2021-09-12 13:07:51.123  \n",
       "4           1        True 2021-09-12 13:09:17.436  \n",
       "\n",
       "[5 rows x 27 columns]"
      ]
     },
     "execution_count": 4,
     "metadata": {},
     "output_type": "execute_result"
    }
   ],
   "source": [
    "print(laps_driver_1.shape)\n",
    "laps_driver_1.head()"
   ]
  },
  {
   "cell_type": "markdown",
   "metadata": {},
   "source": [
    "#### Okay, now to do the actual data cleaning. I'm not sure replacing these NaN values is a *good* idea, but we can certainly do it. Here's the `laps_driver_1` column `SpeedI1` before the change:"
   ]
  },
  {
   "cell_type": "code",
   "execution_count": 5,
   "metadata": {},
   "outputs": [
    {
     "name": "stdout",
     "output_type": "stream",
     "text": [
      "0     314.0\n",
      "1     312.0\n",
      "2     306.0\n",
      "3     305.0\n",
      "4     307.0\n",
      "5       NaN\n",
      "6     306.0\n",
      "7     309.0\n",
      "8     308.0\n",
      "9       NaN\n",
      "10    310.0\n",
      "11    309.0\n",
      "12    311.0\n",
      "13    310.0\n",
      "14      NaN\n",
      "15      NaN\n",
      "16    311.0\n",
      "17      NaN\n",
      "18      NaN\n",
      "19    310.0\n",
      "20    309.0\n",
      "21      NaN\n",
      "22    312.0\n",
      "23    315.0\n",
      "24    309.0\n",
      "25    311.0\n",
      "26    156.0\n",
      "27    120.0\n",
      "28    153.0\n",
      "29    197.0\n",
      "30    303.0\n",
      "31    308.0\n",
      "32      NaN\n",
      "33    306.0\n",
      "34    308.0\n",
      "35    318.0\n",
      "36    305.0\n",
      "37    309.0\n",
      "38      NaN\n",
      "39    310.0\n",
      "40      NaN\n",
      "41    311.0\n",
      "42    312.0\n",
      "43    311.0\n",
      "44    309.0\n",
      "45    310.0\n",
      "46      NaN\n",
      "47      NaN\n",
      "48      NaN\n",
      "49    311.0\n",
      "50      NaN\n",
      "51    312.0\n",
      "52    311.0\n",
      "Name: SpeedI1, dtype: float64\n"
     ]
    }
   ],
   "source": [
    "print(laps_driver_1.SpeedI1)"
   ]
  },
  {
   "cell_type": "markdown",
   "metadata": {},
   "source": [
    "#### Let's replace the `NaN` values with an empty string. Here's a copy of the same column after those changes:"
   ]
  },
  {
   "cell_type": "code",
   "execution_count": 6,
   "metadata": {},
   "outputs": [
    {
     "name": "stdout",
     "output_type": "stream",
     "text": [
      "0     314.0\n",
      "1     312.0\n",
      "2     306.0\n",
      "3     305.0\n",
      "4     307.0\n",
      "5          \n",
      "6     306.0\n",
      "7     309.0\n",
      "8     308.0\n",
      "9          \n",
      "10    310.0\n",
      "11    309.0\n",
      "12    311.0\n",
      "13    310.0\n",
      "14         \n",
      "15         \n",
      "16    311.0\n",
      "17         \n",
      "18         \n",
      "19    310.0\n",
      "20    309.0\n",
      "21         \n",
      "22    312.0\n",
      "23    315.0\n",
      "24    309.0\n",
      "25    311.0\n",
      "26    156.0\n",
      "27    120.0\n",
      "28    153.0\n",
      "29    197.0\n",
      "30    303.0\n",
      "31    308.0\n",
      "32         \n",
      "33    306.0\n",
      "34    308.0\n",
      "35    318.0\n",
      "36    305.0\n",
      "37    309.0\n",
      "38         \n",
      "39    310.0\n",
      "40         \n",
      "41    311.0\n",
      "42    312.0\n",
      "43    311.0\n",
      "44    309.0\n",
      "45    310.0\n",
      "46         \n",
      "47         \n",
      "48         \n",
      "49    311.0\n",
      "50         \n",
      "51    312.0\n",
      "52    311.0\n",
      "Name: SpeedI1, dtype: object\n"
     ]
    }
   ],
   "source": [
    "laps_d1_copy = laps_driver_1.copy()\n",
    "laps_d1_copy.SpeedI1.fillna('',inplace=True)\n",
    "print(laps_d1_copy.SpeedI1)"
   ]
  },
  {
   "cell_type": "code",
   "execution_count": 7,
   "metadata": {},
   "outputs": [
    {
     "name": "stdout",
     "output_type": "stream",
     "text": [
      "object\n"
     ]
    }
   ],
   "source": [
    "print(laps_d1_copy.SpeedI1.dtype)"
   ]
  },
  {
   "cell_type": "markdown",
   "metadata": {},
   "source": [
    "#### We can also adjust the casing of the values in the Compound column (again, not sure this is advisable):"
   ]
  },
  {
   "cell_type": "code",
   "execution_count": 16,
   "metadata": {},
   "outputs": [
    {
     "data": {
      "text/plain": [
       "0     Medium\n",
       "1     Medium\n",
       "2     Medium\n",
       "3     Medium\n",
       "4     Medium\n",
       "5     Medium\n",
       "6     Medium\n",
       "7     Medium\n",
       "8     Medium\n",
       "9     Medium\n",
       "10    Medium\n",
       "11    Medium\n",
       "12    Medium\n",
       "13    Medium\n",
       "14    Medium\n",
       "15    Medium\n",
       "16    Medium\n",
       "17    Medium\n",
       "18    Medium\n",
       "19    Medium\n",
       "20    Medium\n",
       "21    Medium\n",
       "22      Hard\n",
       "23      Hard\n",
       "24      Hard\n",
       "25      Hard\n",
       "26      Hard\n",
       "27      Hard\n",
       "28      Hard\n",
       "29      Hard\n",
       "30      Hard\n",
       "31      Hard\n",
       "32      Hard\n",
       "33      Hard\n",
       "34      Hard\n",
       "35      Hard\n",
       "36      Hard\n",
       "37      Hard\n",
       "38      Hard\n",
       "39      Hard\n",
       "40      Hard\n",
       "41      Hard\n",
       "42      Hard\n",
       "43      Hard\n",
       "44      Hard\n",
       "45      Hard\n",
       "46      Hard\n",
       "47      Hard\n",
       "48      Hard\n",
       "49      Hard\n",
       "50      Hard\n",
       "51      Hard\n",
       "52      Hard\n",
       "Name: Compound, dtype: object"
      ]
     },
     "execution_count": 16,
     "metadata": {},
     "output_type": "execute_result"
    }
   ],
   "source": [
    "laps_d1_copy.Compound.str.title()"
   ]
  }
 ],
 "metadata": {
  "kernelspec": {
   "display_name": "Python 3.9.12 ('base')",
   "language": "python",
   "name": "python3"
  },
  "language_info": {
   "codemirror_mode": {
    "name": "ipython",
    "version": 3
   },
   "file_extension": ".py",
   "mimetype": "text/x-python",
   "name": "python",
   "nbconvert_exporter": "python",
   "pygments_lexer": "ipython3",
   "version": "3.9.12"
  },
  "orig_nbformat": 4,
  "vscode": {
   "interpreter": {
    "hash": "a825035ee43ec546d90825723aaeff23e650536d376a2475356dae38bf1201dc"
   }
  }
 },
 "nbformat": 4,
 "nbformat_minor": 2
}
