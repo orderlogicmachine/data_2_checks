{
 "cells": [
  {
   "cell_type": "markdown",
   "metadata": {},
   "source": [
    "For this check, I'll be using the Agify.io API, which predicts the age of a person given their first name."
   ]
  },
  {
   "cell_type": "code",
   "execution_count": 7,
   "metadata": {},
   "outputs": [],
   "source": [
    "top_names = [\"james\", \"robert\", \"john\", \"michael\", \"david\", \"william\", \"mary\", \"richard\", \"joseph\", \"thomas\"]"
   ]
  },
  {
   "cell_type": "code",
   "execution_count": 8,
   "metadata": {},
   "outputs": [
    {
     "name": "stdout",
     "output_type": "stream",
     "text": [
      "{'age': 54, 'count': 108496, 'country_id': 'US', 'name': 'michael'}\n"
     ]
    }
   ],
   "source": [
    "# This is where the knowledge check will start.\n",
    "\n",
    "import requests\n",
    "import pandas as pd\n",
    "\n",
    "response = requests.get(\"https://api.agify.io?name=michael&country_id=US\")\n",
    "\n",
    "print(response.json())"
   ]
  },
  {
   "cell_type": "code",
   "execution_count": null,
   "metadata": {},
   "outputs": [],
   "source": []
  }
 ],
 "metadata": {
  "kernelspec": {
   "display_name": "Python 3.9.12 ('base')",
   "language": "python",
   "name": "python3"
  },
  "language_info": {
   "codemirror_mode": {
    "name": "ipython",
    "version": 3
   },
   "file_extension": ".py",
   "mimetype": "text/x-python",
   "name": "python",
   "nbconvert_exporter": "python",
   "pygments_lexer": "ipython3",
   "version": "3.9.12"
  },
  "orig_nbformat": 4,
  "vscode": {
   "interpreter": {
    "hash": "a825035ee43ec546d90825723aaeff23e650536d376a2475356dae38bf1201dc"
   }
  }
 },
 "nbformat": 4,
 "nbformat_minor": 2
}
