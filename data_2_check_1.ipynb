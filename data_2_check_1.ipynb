{
 "cells": [
  {
   "cell_type": "markdown",
   "metadata": {},
   "source": [
    "For this check, I'll be using the Agify.io API, which predicts the age of a person given their first name.\n",
    "\n",
    "The ten names I'm using in top_names were reported as the ten most popular names from 1922-2021 by the SSA. "
   ]
  },
  {
   "cell_type": "code",
   "execution_count": 30,
   "metadata": {},
   "outputs": [
    {
     "name": "stdout",
     "output_type": "stream",
     "text": [
      "      Name\n",
      "0    james\n",
      "1   robert\n",
      "2     john\n",
      "3  michael\n",
      "4    david\n",
      "5  william\n",
      "6     mary\n",
      "7  richard\n",
      "8   joseph\n",
      "9   thomas\n"
     ]
    }
   ],
   "source": [
    "import pandas as pd\n",
    "import requests\n",
    "\n",
    "top_names = {\"Name\": [\"james\", \"robert\", \"john\", \"michael\", \"david\", \"william\", \"mary\", \"richard\", \"joseph\", \"thomas\"]}\n",
    "\n",
    "df = pd.DataFrame(top_names)\n",
    "print(df)"
   ]
  },
  {
   "cell_type": "markdown",
   "metadata": {},
   "source": [
    "> Pull in data from an API. Here's a list of public APIs that don't require Auth keys, though if you have another API you want to use feel free: https://apipheny.io/free-api/"
   ]
  },
  {
   "cell_type": "code",
   "execution_count": 49,
   "metadata": {},
   "outputs": [
    {
     "data": {
      "text/html": [
       "<div>\n",
       "<style scoped>\n",
       "    .dataframe tbody tr th:only-of-type {\n",
       "        vertical-align: middle;\n",
       "    }\n",
       "\n",
       "    .dataframe tbody tr th {\n",
       "        vertical-align: top;\n",
       "    }\n",
       "\n",
       "    .dataframe thead th {\n",
       "        text-align: right;\n",
       "    }\n",
       "</style>\n",
       "<table border=\"1\" class=\"dataframe\">\n",
       "  <thead>\n",
       "    <tr style=\"text-align: right;\">\n",
       "      <th></th>\n",
       "      <th>age</th>\n",
       "      <th>count</th>\n",
       "      <th>country_id</th>\n",
       "      <th>name</th>\n",
       "    </tr>\n",
       "  </thead>\n",
       "  <tbody>\n",
       "    <tr>\n",
       "      <th>0</th>\n",
       "      <td>63</td>\n",
       "      <td>60928</td>\n",
       "      <td>US</td>\n",
       "      <td>James</td>\n",
       "    </tr>\n",
       "    <tr>\n",
       "      <th>1</th>\n",
       "      <td>66</td>\n",
       "      <td>65378</td>\n",
       "      <td>US</td>\n",
       "      <td>Robert</td>\n",
       "    </tr>\n",
       "    <tr>\n",
       "      <th>2</th>\n",
       "      <td>65</td>\n",
       "      <td>96469</td>\n",
       "      <td>US</td>\n",
       "      <td>John</td>\n",
       "    </tr>\n",
       "    <tr>\n",
       "      <th>3</th>\n",
       "      <td>54</td>\n",
       "      <td>108496</td>\n",
       "      <td>US</td>\n",
       "      <td>Michael</td>\n",
       "    </tr>\n",
       "    <tr>\n",
       "      <th>4</th>\n",
       "      <td>59</td>\n",
       "      <td>92219</td>\n",
       "      <td>US</td>\n",
       "      <td>David</td>\n",
       "    </tr>\n",
       "    <tr>\n",
       "      <th>5</th>\n",
       "      <td>65</td>\n",
       "      <td>36509</td>\n",
       "      <td>US</td>\n",
       "      <td>William</td>\n",
       "    </tr>\n",
       "    <tr>\n",
       "      <th>6</th>\n",
       "      <td>70</td>\n",
       "      <td>30921</td>\n",
       "      <td>US</td>\n",
       "      <td>Mary</td>\n",
       "    </tr>\n",
       "    <tr>\n",
       "      <th>7</th>\n",
       "      <td>69</td>\n",
       "      <td>38743</td>\n",
       "      <td>US</td>\n",
       "      <td>Richard</td>\n",
       "    </tr>\n",
       "    <tr>\n",
       "      <th>8</th>\n",
       "      <td>57</td>\n",
       "      <td>33546</td>\n",
       "      <td>US</td>\n",
       "      <td>Joseph</td>\n",
       "    </tr>\n",
       "    <tr>\n",
       "      <th>9</th>\n",
       "      <td>61</td>\n",
       "      <td>29081</td>\n",
       "      <td>US</td>\n",
       "      <td>Thomas</td>\n",
       "    </tr>\n",
       "  </tbody>\n",
       "</table>\n",
       "</div>"
      ],
      "text/plain": [
       "   age   count country_id     name\n",
       "0   63   60928         US    James\n",
       "1   66   65378         US   Robert\n",
       "2   65   96469         US     John\n",
       "3   54  108496         US  Michael\n",
       "4   59   92219         US    David\n",
       "5   65   36509         US  William\n",
       "6   70   30921         US     Mary\n",
       "7   69   38743         US  Richard\n",
       "8   57   33546         US   Joseph\n",
       "9   61   29081         US   Thomas"
      ]
     },
     "execution_count": 49,
     "metadata": {},
     "output_type": "execute_result"
    }
   ],
   "source": [
    "r = requests.get(\"https://api.agify.io?name[]=James&name[]=Robert&name[]=John&name[]=Michael&name[]=David&name[]=William&name[]=Mary&name[]=Richard&name[]=Joseph&name[]=Thomas&&country_id=US\")\n",
    "\n",
    "j = r.json()\n",
    "\n",
    "df2 = pd.DataFrame.from_dict(j)\n",
    "\n",
    "df2"
   ]
  },
  {
   "cell_type": "markdown",
   "metadata": {},
   "source": [
    "> Find and print TWO descriptive statistics about your data. This can be absolutely anything, from the mean() or sum() of a column to the number of different categories, to the number of null values in a column. We just want to see two pieces of information."
   ]
  },
  {
   "cell_type": "code",
   "execution_count": 50,
   "metadata": {},
   "outputs": [
    {
     "name": "stdout",
     "output_type": "stream",
     "text": [
      "The mean age of people with the ten most popular names in the US is 62.9.\n",
      "The total number of people with the ten most popular names in the US is 592290.\n"
     ]
    }
   ],
   "source": [
    "m = df2[\"age\"].mean()\n",
    "mean_age = str(m)\n",
    "\n",
    "s = df2[\"count\"].sum()\n",
    "sum = str(s)\n",
    "\n",
    "print(\"The mean age of people with the ten most popular names in the US is \" + mean_age + \".\")\n",
    "print(\"The total number of people with the ten most popular names in the US is \" + sum + \".\")"
   ]
  },
  {
   "cell_type": "markdown",
   "metadata": {},
   "source": [
    "> Write a query in Pandas to select a particular set of your data. You can use a mask or with .query(), but we want you to pull out a subset based on any parameter you like. This could be \"show me every row where HTTPS=False\" or anything else.\n",
    "\n",
    "For this, I was curious which names had the youngest mean age:"
   ]
  },
  {
   "cell_type": "code",
   "execution_count": 51,
   "metadata": {},
   "outputs": [
    {
     "data": {
      "text/html": [
       "<div>\n",
       "<style scoped>\n",
       "    .dataframe tbody tr th:only-of-type {\n",
       "        vertical-align: middle;\n",
       "    }\n",
       "\n",
       "    .dataframe tbody tr th {\n",
       "        vertical-align: top;\n",
       "    }\n",
       "\n",
       "    .dataframe thead th {\n",
       "        text-align: right;\n",
       "    }\n",
       "</style>\n",
       "<table border=\"1\" class=\"dataframe\">\n",
       "  <thead>\n",
       "    <tr style=\"text-align: right;\">\n",
       "      <th></th>\n",
       "      <th>age</th>\n",
       "      <th>count</th>\n",
       "      <th>country_id</th>\n",
       "      <th>name</th>\n",
       "    </tr>\n",
       "  </thead>\n",
       "  <tbody>\n",
       "    <tr>\n",
       "      <th>3</th>\n",
       "      <td>54</td>\n",
       "      <td>108496</td>\n",
       "      <td>US</td>\n",
       "      <td>Michael</td>\n",
       "    </tr>\n",
       "    <tr>\n",
       "      <th>4</th>\n",
       "      <td>59</td>\n",
       "      <td>92219</td>\n",
       "      <td>US</td>\n",
       "      <td>David</td>\n",
       "    </tr>\n",
       "    <tr>\n",
       "      <th>8</th>\n",
       "      <td>57</td>\n",
       "      <td>33546</td>\n",
       "      <td>US</td>\n",
       "      <td>Joseph</td>\n",
       "    </tr>\n",
       "  </tbody>\n",
       "</table>\n",
       "</div>"
      ],
      "text/plain": [
       "   age   count country_id     name\n",
       "3   54  108496         US  Michael\n",
       "4   59   92219         US    David\n",
       "8   57   33546         US   Joseph"
      ]
     },
     "execution_count": 51,
     "metadata": {},
     "output_type": "execute_result"
    }
   ],
   "source": [
    "df2.query(\"age < 60\")"
   ]
  },
  {
   "cell_type": "markdown",
   "metadata": {},
   "source": [
    "> Select and print the SECOND AND THIRD columns of your data frame."
   ]
  },
  {
   "cell_type": "code",
   "execution_count": 58,
   "metadata": {},
   "outputs": [
    {
     "name": "stdout",
     "output_type": "stream",
     "text": [
      "    count country_id\n",
      "0   60928         US\n",
      "1   65378         US\n",
      "2   96469         US\n",
      "3  108496         US\n",
      "4   92219         US\n",
      "5   36509         US\n",
      "6   30921         US\n",
      "7   38743         US\n",
      "8   33546         US\n",
      "9   29081         US\n"
     ]
    }
   ],
   "source": [
    "print(df2.iloc[:, [1,2]])"
   ]
  },
  {
   "cell_type": "markdown",
   "metadata": {},
   "source": [
    "> Select and print the FIRST 4 rows of your data frame."
   ]
  },
  {
   "cell_type": "code",
   "execution_count": 60,
   "metadata": {},
   "outputs": [
    {
     "name": "stdout",
     "output_type": "stream",
     "text": [
      "   age   count country_id     name\n",
      "0   63   60928         US    James\n",
      "1   66   65378         US   Robert\n",
      "2   65   96469         US     John\n",
      "3   54  108496         US  Michael\n"
     ]
    }
   ],
   "source": [
    "print(df2.loc[0:3])"
   ]
  }
 ],
 "metadata": {
  "kernelspec": {
   "display_name": "Python 3.9.12 ('base')",
   "language": "python",
   "name": "python3"
  },
  "language_info": {
   "codemirror_mode": {
    "name": "ipython",
    "version": 3
   },
   "file_extension": ".py",
   "mimetype": "text/x-python",
   "name": "python",
   "nbconvert_exporter": "python",
   "pygments_lexer": "ipython3",
   "version": "3.9.12"
  },
  "orig_nbformat": 4,
  "vscode": {
   "interpreter": {
    "hash": "a825035ee43ec546d90825723aaeff23e650536d376a2475356dae38bf1201dc"
   }
  }
 },
 "nbformat": 4,
 "nbformat_minor": 2
}
